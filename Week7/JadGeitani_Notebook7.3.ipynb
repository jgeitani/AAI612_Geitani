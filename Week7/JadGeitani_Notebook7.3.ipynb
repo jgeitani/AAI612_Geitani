{
  "cells": [
    {
      "cell_type": "markdown",
      "metadata": {
        "id": "OFRwkUOxb_BH"
      },
      "source": [
        "# AAI612: Deep Learning & its Applications\n",
        "\n",
        "*Notebook 7.3: Loading Pretrained Embeddings*\n",
        "\n",
        "<a href=\"https://colab.research.google.com/github/jgeitani/AAI612_Geitani/blob/main/Week7/JadGeitani_Notebook7.3.ipynb\" target=\"_parent\"><img src=\"https://colab.research.google.com/assets/colab-badge.svg\" alt=\"Open In Colab\"/></a>"
      ]
    },
    {
      "cell_type": "code",
      "execution_count": null,
      "metadata": {
        "id": "8vU9Oh0bb_BJ",
        "outputId": "ad2d5b4b-9608-49c4-d580-ff0cc99b9726"
      },
      "outputs": [
        {
          "data": {
            "text/plain": [
              "'\\nThe MIT License (MIT)\\nCopyright (c) 2021 NVIDIA\\nPermission is hereby granted, free of charge, to any person obtaining a copy of\\nthis software and associated documentation files (the \"Software\"), to deal in\\nthe Software without restriction, including without limitation the rights to\\nuse, copy, modify, merge, publish, distribute, sublicense, and/or sell copies of\\nthe Software, and to permit persons to whom the Software is furnished to do so,\\nsubject to the following conditions:\\nThe above copyright notice and this permission notice shall be included in all\\ncopies or substantial portions of the Software.\\nTHE SOFTWARE IS PROVIDED \"AS IS\", WITHOUT WARRANTY OF ANY KIND, EXPRESS OR\\nIMPLIED, INCLUDING BUT NOT LIMITED TO THE WARRANTIES OF MERCHANTABILITY, FITNESS\\nFOR A PARTICULAR PURPOSE AND NONINFRINGEMENT. IN NO EVENT SHALL THE AUTHORS OR\\nCOPYRIGHT HOLDERS BE LIABLE FOR ANY CLAIM, DAMAGES OR OTHER LIABILITY, WHETHER\\nIN AN ACTION OF CONTRACT, TORT OR OTHERWISE, ARISING FROM, OUT OF OR IN\\nCONNECTION WITH THE SOFTWARE OR THE USE OR OTHER DEALINGS IN THE SOFTWARE.\\n'"
            ]
          },
          "execution_count": 14,
          "metadata": {},
          "output_type": "execute_result"
        }
      ],
      "source": [
        "\"\"\"\n",
        "The MIT License (MIT)\n",
        "Copyright (c) 2021 NVIDIA\n",
        "Permission is hereby granted, free of charge, to any person obtaining a copy of\n",
        "this software and associated documentation files (the \"Software\"), to deal in\n",
        "thex Software without restriction, including without limitation the rights to\n",
        "use, copy, modify, merge, publish, distribute, sublicense, and/or sell copies of\n",
        "the Software, and to permit persons to whom the Software is furnished to do so,\n",
        "subject to the following conditions:\n",
        "The above copyright notice and this permission notice shall be included in all\n",
        "copies or substantial portions of the Software.\n",
        "THE SOFTWARE IS PROVIDED \"AS IS\", WITHOUT WARRANTY OF ANY KIND, EXPRESS OR\n",
        "IMPLIED, INCLUDING BUT NOT LIMITED TO THE WARRANTIES OF MERCHANTABILITY, FITNESS\n",
        "FOR A PARTICULAR PURPOSE AND NONINFRINGEMENT. IN NO EVENT SHALL THE AUTHORS OR\n",
        "COPYRIGHT HOLDERS BE LIABLE FOR ANY CLAIM, DAMAGES OR OTHER LIABILITY, WHETHER\n",
        "IN AN ACTION OF CONTRACT, TORT OR OTHERWISE, ARISING FROM, OUT OF OR IN\n",
        "CONNECTION WITH THE SOFTWARE OR THE USE OR OTHER DEALINGS IN THE SOFTWARE.\n",
        "\"\"\""
      ]
    },
    {
      "cell_type": "markdown",
      "metadata": {
        "id": "7j-wnpqGb_BL"
      },
      "source": [
        "## gloVe"
      ]
    },
    {
      "cell_type": "markdown",
      "metadata": {
        "id": "i2pl1UGNb_BL"
      },
      "source": [
        "Download and unzip the precomputed embeddings from 2014 English Wikipedia `glove.6B.zip` from Go to https://nlp.stanford.edu/projects/glove. It’s an 822 MB zip file called glove.6B.zip, containing 100-dimensional embedding vectors for 400,000 words (or nonword tokens). Unzip it inside a directory `data`.  Keep the file `glove.6B.100d.txt` an delete the rest."
      ]
    },
    {
      "cell_type": "markdown",
      "metadata": {
        "id": "zQW_oOAjb_BM"
      },
      "source": [
        "### Preproessing the Embeddings"
      ]
    },
    {
      "cell_type": "markdown",
      "metadata": {
        "tags": [],
        "id": "RDny6jj1b_BM"
      },
      "source": [
        "Read the embeddings.  Start by opening the file and read it line by line. Split each line into its elements. Extract the first element, which represents the word itself, and then create a vector from the remaining elements and insert the word and the corresponding vector into a dictionary, which serves as the return value of the function."
      ]
    },
    {
      "cell_type": "code",
      "execution_count": 15,
      "metadata": {
        "tags": [],
        "id": "oo5kuUlQb_BM"
      },
      "outputs": [],
      "source": [
        "import numpy as np\n",
        "import scipy.spatial\n",
        "\n",
        "# Read embeddings from file.\n",
        "def read_embeddings():\n",
        "    FILE_NAME = 'data/glove.6B.100d.txt'\n",
        "    embeddings = {}\n",
        "\n",
        "    with open(FILE_NAME, 'r', encoding='utf-8') as file:\n",
        "        for line in file:\n",
        "            values = line.strip().split()\n",
        "            word = values[0]\n",
        "            vector = np.asarray(values[1:], dtype='float32')\n",
        "\n",
        "            # Ensure the vector has exactly 100 dimensions\n",
        "            if vector.shape[0] == 100:\n",
        "                embeddings[word] = vector\n",
        "            else:\n",
        "                print(f\"Skipping '{word}' due to incorrect shape: {vector.shape}\")\n",
        "\n",
        "    print(f'Read {len(embeddings)} valid embeddings.')\n",
        "    return embeddings\n"
      ]
    },
    {
      "cell_type": "markdown",
      "metadata": {
        "id": "9jNDFT-_b_BM"
      },
      "source": [
        "Compute the cosine distance between a specific embedding and all other embeddings. It then prints the n closest ones.  Euclidean distance would also have worked fine, but the results would sometimes be different because the GloVe vectors are not normalized."
      ]
    },
    {
      "cell_type": "code",
      "execution_count": 16,
      "metadata": {
        "id": "TinI0Jykb_BN"
      },
      "outputs": [],
      "source": [
        "\n",
        "def print_n_closest(embeddings, vec0, n):\n",
        "    word_distances = {}\n",
        "    for (word, vec1) in embeddings.items():\n",
        "        distance = scipy.spatial.distance.cosine(vec1, vec0)\n",
        "        word_distances[distance] = word\n",
        "    # Print words sorted by distance.\n",
        "    for distance in sorted(word_distances.keys())[:n]:\n",
        "        word = word_distances[distance]\n",
        "        print(word + ': %6.3f' % distance)"
      ]
    },
    {
      "cell_type": "markdown",
      "metadata": {
        "tags": [],
        "id": "ZS8P_1ANb_BN"
      },
      "source": [
        "First read the embeddings by invoking `read_embeddings()`"
      ]
    },
    {
      "cell_type": "code",
      "execution_count": 17,
      "metadata": {
        "colab": {
          "base_uri": "https://localhost:8080/"
        },
        "id": "GwjyxOzSb_BO",
        "outputId": "84ff2ce5-e5d4-410d-a750-6bc8dfc19050"
      },
      "outputs": [
        {
          "output_type": "stream",
          "name": "stdout",
          "text": [
            "Skipping 'playmates' due to incorrect shape: (14,)\n",
            "Read 54970 valid embeddings.\n"
          ]
        }
      ],
      "source": [
        "embeddings = read_embeddings()"
      ]
    },
    {
      "cell_type": "markdown",
      "metadata": {
        "id": "II9IOxT5b_BO"
      },
      "source": [
        "Retrieve the embeddings for **hello** and print closest emebdding using `print_n_closest()`"
      ]
    },
    {
      "cell_type": "code",
      "source": [
        "for word, vector in embeddings.items():\n",
        "    if vector.shape[0] != 100:\n",
        "        print(f\"Mismatch found: {word} has shape {vector.shape}\")"
      ],
      "metadata": {
        "id": "VU9e0dQZkBra"
      },
      "execution_count": 18,
      "outputs": []
    },
    {
      "cell_type": "code",
      "execution_count": 19,
      "metadata": {
        "colab": {
          "base_uri": "https://localhost:8080/"
        },
        "id": "uHy6FqXEb_BP",
        "outputId": "75f979de-4901-4cdf-e3c4-c4b3ae10b733"
      },
      "outputs": [
        {
          "output_type": "stream",
          "name": "stdout",
          "text": [
            "\n",
            "Words closest to hello\n",
            "hello:  0.000\n",
            "goodbye:  0.209\n",
            "hey:  0.283\n"
          ]
        }
      ],
      "source": [
        "lookup_word = 'hello'.lower()\n",
        "print('\\nWords closest to ' + lookup_word)\n",
        "if lookup_word in embeddings:\n",
        "    print_n_closest(embeddings, embeddings[lookup_word], 3)\n",
        "else:\n",
        "    print(f\"'{lookup_word}' not found in embeddings.\")"
      ]
    },
    {
      "cell_type": "markdown",
      "metadata": {
        "tags": [],
        "id": "GI9dzCjIb_BP"
      },
      "source": [
        "Retrieve the embeddings for **dog** and print closest emebdding using `print_n_closest()`"
      ]
    },
    {
      "cell_type": "code",
      "execution_count": 20,
      "metadata": {
        "colab": {
          "base_uri": "https://localhost:8080/"
        },
        "id": "321ABiQSb_BQ",
        "outputId": "de79c7fd-fc16-48fb-d97b-20c8be9be193"
      },
      "outputs": [
        {
          "output_type": "stream",
          "name": "stdout",
          "text": [
            "\n",
            "Words closest to dog\n",
            "dog:  0.000\n",
            "cat:  0.120\n",
            "dogs:  0.166\n"
          ]
        }
      ],
      "source": [
        "lookup_word = 'dog'\n",
        "print('\\nWords closest to ' + lookup_word)\n",
        "print_n_closest(embeddings, embeddings[lookup_word], 3)"
      ]
    },
    {
      "cell_type": "markdown",
      "metadata": {
        "id": "FO1YCbaVb_BQ"
      },
      "source": [
        "### What is the capital of Jordan?"
      ]
    },
    {
      "cell_type": "code",
      "execution_count": 21,
      "metadata": {
        "id": "k74YmHyxb_BR",
        "outputId": "3acb513b-5efc-4fb5-c8ad-0b22cc407270",
        "colab": {
          "base_uri": "https://localhost:8080/"
        }
      },
      "outputs": [
        {
          "output_type": "stream",
          "name": "stdout",
          "text": [
            "amman:  0.250\n",
            "jordan:  0.268\n",
            "cairo:  0.321\n"
          ]
        }
      ],
      "source": [
        "vec = embeddings['beirut'] - embeddings['lebanon'] + embeddings['jordan']\n",
        "print_n_closest(embeddings, vec, 3)"
      ]
    },
    {
      "cell_type": "markdown",
      "metadata": {
        "id": "XGkSQs6Nb_BR"
      },
      "source": [
        "### King - man + Woman = ??"
      ]
    },
    {
      "cell_type": "markdown",
      "metadata": {
        "id": "Z1XaR-SGb_BR"
      },
      "source": [
        "Retrieve the embeddings for **king** and print closest emebdding using `print_n_closest()`"
      ]
    },
    {
      "cell_type": "code",
      "execution_count": 22,
      "metadata": {
        "id": "cQX17_b5b_BR",
        "outputId": "6e687c68-c23f-43ed-9051-d2fb5cf565e6",
        "colab": {
          "base_uri": "https://localhost:8080/"
        }
      },
      "outputs": [
        {
          "output_type": "stream",
          "name": "stdout",
          "text": [
            "\n",
            "Words closest to king\n",
            "king:  0.000\n",
            "prince:  0.232\n",
            "queen:  0.249\n"
          ]
        }
      ],
      "source": [
        "lookup_word = 'king'\n",
        "print('\\nWords closest to ' + lookup_word)\n",
        "print_n_closest(embeddings, embeddings[lookup_word], 3)"
      ]
    },
    {
      "cell_type": "markdown",
      "metadata": {
        "id": "uWgcoKG_b_BS"
      },
      "source": [
        "Print the words closest to the vector resulting from computing `(king - man + woman).`"
      ]
    },
    {
      "cell_type": "code",
      "execution_count": 23,
      "metadata": {
        "id": "Wx0TDUovb_BS",
        "outputId": "667fee3f-56f5-454b-831c-94a45034ecb9",
        "colab": {
          "base_uri": "https://localhost:8080/"
        }
      },
      "outputs": [
        {
          "output_type": "stream",
          "name": "stdout",
          "text": [
            "\n",
            "Words closest to (king - man + woman)\n",
            "king:  0.145\n",
            "queen:  0.217\n",
            "monarch:  0.307\n"
          ]
        }
      ],
      "source": [
        "lookup_word = '(king - man + woman)'\n",
        "print('\\nWords closest to ' + lookup_word)\n",
        "vec = embeddings['king'] - embeddings['man'] + embeddings['woman']\n",
        "print_n_closest(embeddings, vec, 3)"
      ]
    },
    {
      "cell_type": "markdown",
      "metadata": {
        "id": "OVX7HOVwb_BS"
      },
      "source": [
        "### Madrid − Spain + Sweden = ?"
      ]
    },
    {
      "cell_type": "markdown",
      "metadata": {
        "tags": [],
        "id": "XOvNtYtbb_BS"
      },
      "source": [
        "A more impressive example next where we first print the words closest to **sweden** and **madrid** and then print the words closest to the result from the computation `(madrid − spain + sweden).`  We would assume the answer to be `Stockholm`"
      ]
    },
    {
      "cell_type": "code",
      "execution_count": 24,
      "metadata": {
        "id": "Eb7xi9dub_BS",
        "outputId": "8e5b554a-fee9-4797-a744-80abb246f626",
        "colab": {
          "base_uri": "https://localhost:8080/"
        }
      },
      "outputs": [
        {
          "output_type": "stream",
          "name": "stdout",
          "text": [
            "\n",
            "Words closest to sweden\n",
            "sweden:  0.000\n",
            "denmark:  0.138\n",
            "norway:  0.193\n"
          ]
        }
      ],
      "source": [
        "lookup_word = 'sweden'\n",
        "print('\\nWords closest to ' + lookup_word)\n",
        "print_n_closest(embeddings, embeddings[lookup_word], 3)"
      ]
    },
    {
      "cell_type": "code",
      "execution_count": 25,
      "metadata": {
        "id": "YQxjI4oFb_BT",
        "outputId": "53e99f8e-888e-474f-d8b4-f08390f94331",
        "colab": {
          "base_uri": "https://localhost:8080/"
        }
      },
      "outputs": [
        {
          "output_type": "stream",
          "name": "stdout",
          "text": [
            "\n",
            "Words closest to madrid\n",
            "madrid:  0.000\n",
            "barcelona:  0.157\n",
            "valencia:  0.197\n"
          ]
        }
      ],
      "source": [
        "lookup_word = 'madrid'\n",
        "print('\\nWords closest to ' + lookup_word)\n",
        "print_n_closest(embeddings, embeddings[lookup_word], 3)"
      ]
    },
    {
      "cell_type": "markdown",
      "metadata": {
        "id": "5gp145Svb_BT"
      },
      "source": [
        "Now, print the words closest to the result from the computation `(madrid − spain + sweden).`"
      ]
    },
    {
      "cell_type": "code",
      "execution_count": 26,
      "metadata": {
        "id": "lfRagiO6b_BT",
        "outputId": "a2cca051-f02a-420a-ca4e-ecdb6c2f70c6",
        "colab": {
          "base_uri": "https://localhost:8080/"
        }
      },
      "outputs": [
        {
          "output_type": "stream",
          "name": "stdout",
          "text": [
            "\n",
            "Words closest to (madrid - spain + sweden)\n",
            "stockholm:  0.271\n",
            "sweden:  0.300\n",
            "copenhagen:  0.305\n"
          ]
        }
      ],
      "source": [
        "lookup_word = '(madrid - spain + sweden)'\n",
        "print('\\nWords closest to ' + lookup_word)\n",
        "vec = embeddings['madrid'] - embeddings['spain'] + embeddings['sweden']\n",
        "print_n_closest(embeddings, vec, 3)"
      ]
    }
  ],
  "metadata": {
    "kernelspec": {
      "display_name": "Python 3",
      "language": "python",
      "name": "python3"
    },
    "language_info": {
      "codemirror_mode": {
        "name": "ipython",
        "version": 3
      },
      "file_extension": ".py",
      "mimetype": "text/x-python",
      "name": "python",
      "nbconvert_exporter": "python",
      "pygments_lexer": "ipython3",
      "version": "3.9.6"
    },
    "colab": {
      "provenance": []
    }
  },
  "nbformat": 4,
  "nbformat_minor": 0
}