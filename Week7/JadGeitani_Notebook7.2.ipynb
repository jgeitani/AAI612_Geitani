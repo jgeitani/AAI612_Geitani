{
  "cells": [
    {
      "cell_type": "markdown",
      "metadata": {
        "id": "k8-l5Iv0JboT"
      },
      "source": [
        "# AAI612: Deep Learning & its Applications\n",
        "\n",
        "*Notebook 7.2: Text Processing Using Keras*\n",
        "\n",
        "<a href=\"https://colab.research.google.com/github/jgeitani/AAI612_Geitani/blob/main/Week7/JadGeitani_Notebook7.2.ipynb\" target=\"_parent\"><img src=\"https://colab.research.google.com/assets/colab-badge.svg\" alt=\"Open In Colab\"/></a>"
      ]
    },
    {
      "cell_type": "code",
      "execution_count": 8,
      "metadata": {
        "tags": [],
        "id": "4JZ3RztsJboX"
      },
      "outputs": [],
      "source": [
        "from tensorflow.keras.preprocessing.text import Tokenizer\n",
        "from tensorflow.keras.preprocessing.sequence import pad_sequences"
      ]
    },
    {
      "cell_type": "markdown",
      "metadata": {
        "id": "liwgI5W_Jboa"
      },
      "source": [
        "## Initialize\n",
        "\n",
        "we need first to initialize the Tokenizer class.  The `num_words` parameter used in the initializer specifies the maximum number of words minus one (based on frequency) to keep when generating sequences. For now, the important thing to note is it does not affect how the `word_index` dictionary is generated. You can try passing `1` instead of `100` as shown on the next cell and you will arrive at the same `word_index`.\n",
        "\n",
        "Also notice that by default, all punctuation is ignored and words are converted to lower case. You can override these behaviors by modifying the `filters` and `lower` arguments of the `Tokenizer` class as described [here](https://www.tensorflow.org/api_docs/python/tf/keras/preprocessing/text/Tokenizer#arguments). You can try modifying these in the next cell below and compare the output to the one generated above."
      ]
    },
    {
      "cell_type": "code",
      "execution_count": 9,
      "metadata": {
        "id": "Rzg-ZWY_Jbob"
      },
      "outputs": [],
      "source": [
        "# Define your input texts\n",
        "sentences = [\n",
        "    \"How much wood would a woodchuck chuck?\",\n",
        "    \"A woodchuck could chuck wood if it would.\",\n",
        "    \"The woodchuck chucking process is efficient.\"\n",
        "]\n",
        "# Initialize the Tokenizer class\n",
        "tokenizer = Tokenizer(num_words = 200, oov_token=\"UNK\", filters='')"
      ]
    },
    {
      "cell_type": "markdown",
      "metadata": {
        "id": "d54sLp0DJboc"
      },
      "source": [
        "## Generating the vocabulary\n",
        "\n",
        "Let us look first at how you can provide a look up dictionary for each word. The code below takes a list of sentences, then takes each word in those sentences and assigns it to an integer. This is done using the [fit_on_texts()](https://www.tensorflow.org/api_docs/python/tf/keras/preprocessing/text/Tokenizer#fit_on_texts) method and you can get the result by looking at the `word_index` property. More frequent words have a lower index."
      ]
    },
    {
      "cell_type": "code",
      "execution_count": 10,
      "metadata": {
        "id": "kWdieVzjJbod"
      },
      "outputs": [],
      "source": [
        "# Tokenize the input sentences\n",
        "tokenizer.fit_on_texts(sentences)\n",
        "\n",
        "# Get the word index dictionary\n",
        "word_index = tokenizer.word_index"
      ]
    },
    {
      "cell_type": "markdown",
      "metadata": {
        "id": "Vm0pQ4qMJboe"
      },
      "source": [
        "## Text to Sequences\n",
        "\n",
        "You can use then use the result to convert each of the input sentences into a sequence of tokens. That is done using the [`texts_to_sequences()`](https://www.tensorflow.org/api_docs/python/tf/keras/preprocessing/text/Tokenizer#texts_to_sequences) method as shown below."
      ]
    },
    {
      "cell_type": "code",
      "execution_count": 11,
      "metadata": {
        "id": "9HE66g71Jbof"
      },
      "outputs": [],
      "source": [
        "# Generate list of token sequences\n",
        "sequences = tokenizer.texts_to_sequences(sentences)"
      ]
    },
    {
      "cell_type": "markdown",
      "metadata": {
        "id": "CvOjS53TJbog"
      },
      "source": [
        "\n",
        "## Check the Results"
      ]
    },
    {
      "cell_type": "code",
      "execution_count": 12,
      "metadata": {
        "colab": {
          "base_uri": "https://localhost:8080/"
        },
        "id": "w3f8fWLUJboh",
        "outputId": "9bfc5a71-4f0b-46ff-9da9-936d14eba68e"
      },
      "outputs": [
        {
          "output_type": "stream",
          "name": "stdout",
          "text": [
            "\n",
            "Word Index =  {'UNK': 1, 'woodchuck': 2, 'wood': 3, 'a': 4, 'how': 5, 'much': 6, 'would': 7, 'chuck?': 8, 'could': 9, 'chuck': 10, 'if': 11, 'it': 12, 'would.': 13, 'the': 14, 'chucking': 15, 'process': 16, 'is': 17, 'efficient.': 18}\n",
            "\n",
            "Sequences =  [[5, 6, 3, 7, 4, 2, 8], [4, 2, 9, 10, 3, 11, 12, 13], [14, 2, 15, 16, 17, 18]]\n"
          ]
        }
      ],
      "source": [
        "# Print the result\n",
        "print(\"\\nWord Index = \" , word_index)\n",
        "print(\"\\nSequences = \" , sequences)"
      ]
    },
    {
      "cell_type": "markdown",
      "metadata": {
        "tags": [],
        "id": "c_Pfxh6RJboj"
      },
      "source": [
        "Notice that now each sentence is a sequence of numbers.  If you check these numbers with the word index, you can recontruct the words!"
      ]
    },
    {
      "cell_type": "markdown",
      "metadata": {
        "id": "ECO35C7kJboj"
      },
      "source": [
        "## Padding\n",
        "\n",
        "You will usually need to pad the sequences into a uniform length because that is what your model expects. You can use the [pad_sequences](https://www.tensorflow.org/api_docs/python/tf/keras/preprocessing/sequence/pad_sequences) for that. By default, it will pad according to the length of the longest sequence. You can override this with the `maxlen` argument to define a specific length. Feel free to play with the [other arguments](https://www.tensorflow.org/api_docs/python/tf/keras/preprocessing/sequence/pad_sequences#args) shown in class and compare the result."
      ]
    },
    {
      "cell_type": "code",
      "execution_count": 13,
      "metadata": {
        "colab": {
          "base_uri": "https://localhost:8080/"
        },
        "id": "IUb7cmtvJbok",
        "outputId": "eff9c601-21ba-4b70-ccc4-485445f23768"
      },
      "outputs": [
        {
          "output_type": "stream",
          "name": "stdout",
          "text": [
            "\n",
            "Padded Sequences:\n",
            "[[ 3  7  4  2  8]\n",
            " [10  3 11 12 13]\n",
            " [ 2 15 16 17 18]]\n"
          ]
        }
      ],
      "source": [
        "# Pad the sequences to a uniform length\n",
        "padded = pad_sequences(sequences, maxlen=5)\n",
        "\n",
        "# Print the result\n",
        "print(\"\\nPadded Sequences:\")\n",
        "print(padded)"
      ]
    },
    {
      "cell_type": "markdown",
      "metadata": {
        "id": "sfck5D1qJbok"
      },
      "source": [
        "## Out-of-vocabulary tokens\n",
        "\n",
        "Notice that you defined an `oov_token` when the `Tokenizer` was initialized earlier. This will be used when you have input words that are not found in the `word_index` dictionary. For example, you may decide to collect more text after your initial training and decide to not re-generate the `word_index`. You will see this in action in the cell below. Notice that the token `1` is inserted for words that are not found in the dictionary."
      ]
    },
    {
      "cell_type": "code",
      "execution_count": 14,
      "metadata": {
        "colab": {
          "base_uri": "https://localhost:8080/"
        },
        "id": "rlDbyqioJbok",
        "outputId": "e0480e25-b69a-4028-e510-7eb06da1d50b"
      },
      "outputs": [
        {
          "output_type": "stream",
          "name": "stdout",
          "text": [
            "\n",
            "Word Index =  {'UNK': 1, 'woodchuck': 2, 'wood': 3, 'a': 4, 'how': 5, 'much': 6, 'would': 7, 'chuck?': 8, 'could': 9, 'chuck': 10, 'if': 11, 'it': 12, 'would.': 13, 'the': 14, 'chucking': 15, 'process': 16, 'is': 17, 'efficient.': 18}\n",
            "\n",
            "Test Sequence =  [[1, 1, 1, 1], [4, 1, 9, 10, 1], [3, 17, 1, 1, 1]]\n",
            "\n",
            "Padded Test Sequence: \n",
            "[[ 0  0  0  0  0  0  1  1  1  1]\n",
            " [ 0  0  0  0  0  4  1  9 10  1]\n",
            " [ 0  0  0  0  0  3 17  1  1  1]]\n"
          ]
        }
      ],
      "source": [
        "# Try with words that the tokenizer wasn't fit to\n",
        "test_data = [\n",
        "    \"I really love woodchucks\",\n",
        "    \"A squirrel could chuck nuts\",\n",
        "    \"Wood is essential for survival\"\n",
        "]\n",
        "\n",
        "# Generate the sequences\n",
        "test_seq = tokenizer.texts_to_sequences(test_data)\n",
        "\n",
        "# Print the word index dictionary\n",
        "print(\"\\nWord Index = \" , word_index)\n",
        "\n",
        "# Print the sequences with OOV\n",
        "print(\"\\nTest Sequence = \", test_seq)\n",
        "\n",
        "# Print the padded result\n",
        "padded = pad_sequences(test_seq, maxlen=10)\n",
        "print(\"\\nPadded Test Sequence: \")\n",
        "print(padded)"
      ]
    }
  ],
  "metadata": {
    "kernelspec": {
      "display_name": "Python 3",
      "language": "python",
      "name": "python3"
    },
    "language_info": {
      "codemirror_mode": {
        "name": "ipython",
        "version": 3
      },
      "file_extension": ".py",
      "mimetype": "text/x-python",
      "name": "python",
      "nbconvert_exporter": "python",
      "pygments_lexer": "ipython3",
      "version": "3.10.11"
    },
    "colab": {
      "provenance": []
    }
  },
  "nbformat": 4,
  "nbformat_minor": 0
}